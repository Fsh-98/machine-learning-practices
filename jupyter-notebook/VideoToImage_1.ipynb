{
 "cells": [
  {
   "cell_type": "code",
   "execution_count": 1,
   "metadata": {
    "id": "xdrAmxtyPpMK"
   },
   "outputs": [],
   "source": [
    "import cv2\n",
    "import os"
   ]
  },
  {
   "cell_type": "markdown",
   "metadata": {
    "id": "X3ITeAURl6fC"
   },
   "source": [
    "# **For orginal sequences**"
   ]
  },
  {
   "cell_type": "code",
   "execution_count": null,
   "metadata": {
    "colab": {
     "base_uri": "https://localhost:8080/"
    },
    "executionInfo": {
     "elapsed": 4,
     "status": "ok",
     "timestamp": 1638637569076,
     "user": {
      "displayName": "Md. Rahat Kader Khan",
      "photoUrl": "https://lh3.googleusercontent.com/a-/AOh14GjKasmEeiHxmsYxEjXwXkIHhNzdd2jMO7RTU9XA=s64",
      "userId": "00805180295176030880"
     },
     "user_tz": -360
    },
    "id": "al8f0h2IVc-C",
    "outputId": "81cf7819-936f-4ecb-8631-1d84fbbfc9ea"
   },
   "outputs": [
    {
     "name": "stdout",
     "output_type": "stream",
     "text": [
      "/content\n"
     ]
    }
   ],
   "source": [
    "#!pwd"
   ]
  },
  {
   "cell_type": "code",
   "execution_count": null,
   "metadata": {
    "colab": {
     "base_uri": "https://localhost:8080/"
    },
    "executionInfo": {
     "elapsed": 1364,
     "status": "ok",
     "timestamp": 1638637783795,
     "user": {
      "displayName": "Md. Rahat Kader Khan",
      "photoUrl": "https://lh3.googleusercontent.com/a-/AOh14GjKasmEeiHxmsYxEjXwXkIHhNzdd2jMO7RTU9XA=s64",
      "userId": "00805180295176030880"
     },
     "user_tz": -360
    },
    "id": "tdgH9_u-WWj6",
    "outputId": "b3643078-6c30-4554-f20d-b79ae9850291"
   },
   "outputs": [
    {
     "name": "stdout",
     "output_type": "stream",
     "text": [
      "/content/drive/MyDrive/Thesis/Faceforensics_2/original_sequences/youtube/raw/images\n"
     ]
    }
   ],
   "source": [
    "#%cd /content/drive/MyDrive/Thesis/Faceforensics_2/original_sequences/youtube/raw/images"
   ]
  },
  {
   "cell_type": "code",
   "execution_count": null,
   "metadata": {
    "id": "sG_EJqODSj57"
   },
   "outputs": [],
   "source": [
    "# for original sequence\n",
    "\n",
    "\"\"\"\"\n",
    "src_dir = \"/content/drive/MyDrive/Thesis/FaceForensics/original_sequences/youtube/c23/videos\"\n",
    "count = 100\n",
    "countFrame =100\n",
    "\n",
    "for dirname, _, filenames in os.walk(src_dir):\n",
    "  for idx,filename in enumerate(sorted(filenames)):\n",
    "\n",
    "    name, file_extension =os.path.splitext(os.path.basename(filename))\n",
    "\n",
    "    #making directory for each video\n",
    "    try:\n",
    "      if not os.path.exists(name):\n",
    "        os.makedirs(name)\n",
    "    except OSError:\n",
    "      print ('Error: Creating directory of data')\n",
    "\n",
    "    currentframe = 1\n",
    "    cam = cv2.VideoCapture(os.path.join(dirname, filename))\n",
    "    for i in range(countFrame):\n",
    "      ret,frame = cam.read()\n",
    "      imageName = \"/content/drive/MyDrive/Thesis/Faceforensics_2/original_sequences/youtube/raw/images\"+'/'+name+'/'+str(currentframe) + '.png'\n",
    "      if ret:\n",
    "        cv2.imwrite(imageName, frame)\n",
    "        currentframe+=1\n",
    "\n",
    "    cam.release()\n",
    "    if idx>count:\n",
    "      break\n",
    "\"\"\""
   ]
  },
  {
   "cell_type": "code",
   "execution_count": 3,
   "metadata": {},
   "outputs": [],
   "source": [
    "# for NeuralTexture\n",
    "\n",
    "src_dir = \"D:\\\\AAA-Thesis\\\\Dataset\\\\FaceForensics++\\\\NeuralTextures\\\\c23\\\\videos\"\n",
    "count = 100\n",
    "countFrame =100\n",
    "\n",
    "for dirname, _, filenames in os.walk(src_dir):\n",
    "  for idx,filename in enumerate(sorted(filenames)):\n",
    "\n",
    "    name, file_extension =os.path.splitext(os.path.basename(filename))\n",
    "\n",
    "    #making directory for each video\n",
    "    try:\n",
    "      if not os.path.exists(name):\n",
    "        os.makedirs(name)\n",
    "    except OSError:\n",
    "      print ('Error: Creating directory of data')\n",
    "\n",
    "    currentframe = 1\n",
    "    cam = cv2.VideoCapture(os.path.join(dirname, filename))\n",
    "    for i in range(countFrame):\n",
    "      ret,frame = cam.read()\n",
    "      imageName = \"D:\\\\Py files\\\\Jupyter-NB\\\\Thesis\\\\Dataset\\\\FaceForensics++\\\\NeuralTexture\\\\images\"+'/'+name+'/'+str(currentframe) + '.png'\n",
    "      if ret:\n",
    "        cv2.imwrite(imageName, frame)\n",
    "        currentframe+=1\n",
    "\n",
    "    cam.release()\n",
    "    if idx>count:\n",
    "      break"
   ]
  },
  {
   "cell_type": "markdown",
   "metadata": {
    "id": "JBlZbYzYmB2D"
   },
   "source": [
    "# **Deepfake**"
   ]
  },
  {
   "cell_type": "code",
   "execution_count": null,
   "metadata": {
    "colab": {
     "base_uri": "https://localhost:8080/"
    },
    "executionInfo": {
     "elapsed": 346,
     "status": "ok",
     "timestamp": 1638641329796,
     "user": {
      "displayName": "Md. Rahat Kader Khan",
      "photoUrl": "https://lh3.googleusercontent.com/a-/AOh14GjKasmEeiHxmsYxEjXwXkIHhNzdd2jMO7RTU9XA=s64",
      "userId": "00805180295176030880"
     },
     "user_tz": -360
    },
    "id": "yzIkl_ethfh6",
    "outputId": "f030f92d-e15b-4d4f-e275-9b4f3350816b"
   },
   "outputs": [
    {
     "name": "stdout",
     "output_type": "stream",
     "text": [
      "/content/drive/My Drive/Thesis/Faceforensics_2/manipulated_sequences/Deepfakes/raw/images\n"
     ]
    }
   ],
   "source": [
    "!pwd"
   ]
  },
  {
   "cell_type": "code",
   "execution_count": null,
   "metadata": {
    "colab": {
     "base_uri": "https://localhost:8080/"
    },
    "executionInfo": {
     "elapsed": 421,
     "status": "ok",
     "timestamp": 1638641333142,
     "user": {
      "displayName": "Md. Rahat Kader Khan",
      "photoUrl": "https://lh3.googleusercontent.com/a-/AOh14GjKasmEeiHxmsYxEjXwXkIHhNzdd2jMO7RTU9XA=s64",
      "userId": "00805180295176030880"
     },
     "user_tz": -360
    },
    "id": "v9E-qCjNmURS",
    "outputId": "c76522e1-3af2-497a-fbfc-da4fe5160f2d"
   },
   "outputs": [
    {
     "name": "stdout",
     "output_type": "stream",
     "text": [
      "/content/drive/MyDrive/Thesis/Faceforensics_2/manipulated_sequences/Deepfakes/raw/images\n"
     ]
    }
   ],
   "source": [
    "%cd /content/drive/MyDrive/Thesis/Faceforensics_2/manipulated_sequences/Deepfakes/raw/images"
   ]
  },
  {
   "cell_type": "code",
   "execution_count": null,
   "metadata": {
    "id": "X_uWecdymUIq"
   },
   "outputs": [],
   "source": [
    "src_dir = \"/content/drive/MyDrive/Thesis/FaceForensics/manipulated_sequences/Deepfakes/c23/videos\"\n",
    "count = 100\n",
    "countFrame =100\n",
    "\n",
    "for dirname, _, filenames in os.walk(src_dir):\n",
    "  for idx,filename in enumerate(sorted(filenames)):\n",
    "\n",
    "    name, file_extension =os.path.splitext(os.path.basename(filename))\n",
    "\n",
    "    #making directory for each video\n",
    "    try:\n",
    "      if not os.path.exists(name):\n",
    "        os.makedirs(name)\n",
    "    except OSError:\n",
    "      print ('Error: Creating directory of data')\n",
    "\n",
    "    currentframe = 1\n",
    "    cam = cv2.VideoCapture(os.path.join(dirname, filename))\n",
    "    for i in range(countFrame):\n",
    "      ret,frame = cam.read()\n",
    "      imageName = \"/content/drive/MyDrive/Thesis/Faceforensics_2/manipulated_sequences/Deepfakes/raw/images\"+'/'+name+'/'+str(currentframe) + '.png'\n",
    "      if ret:\n",
    "        cv2.imwrite(imageName, frame)\n",
    "        currentframe+=1\n",
    "\n",
    "    cam.release()\n",
    "    if idx>count:\n",
    "      break"
   ]
  },
  {
   "cell_type": "code",
   "execution_count": null,
   "metadata": {
    "id": "7dpFoHHWmUAi"
   },
   "outputs": [],
   "source": []
  },
  {
   "cell_type": "markdown",
   "metadata": {
    "id": "B2NMyC8WmCuK"
   },
   "source": [
    "# **Face2Face**"
   ]
  },
  {
   "cell_type": "code",
   "execution_count": null,
   "metadata": {
    "colab": {
     "base_uri": "https://localhost:8080/"
    },
    "executionInfo": {
     "elapsed": 1172,
     "status": "ok",
     "timestamp": 1638642028579,
     "user": {
      "displayName": "Md. Rahat Kader Khan",
      "photoUrl": "https://lh3.googleusercontent.com/a-/AOh14GjKasmEeiHxmsYxEjXwXkIHhNzdd2jMO7RTU9XA=s64",
      "userId": "00805180295176030880"
     },
     "user_tz": -360
    },
    "id": "oQ8skpBf2zZp",
    "outputId": "0fe2fa81-75d4-4362-c26c-2da278945915"
   },
   "outputs": [
    {
     "name": "stdout",
     "output_type": "stream",
     "text": [
      "/content/drive/My Drive/Thesis/Faceforensics_2/manipulated_sequences/Deepfakes/raw/images\n"
     ]
    }
   ],
   "source": [
    "!pwd"
   ]
  },
  {
   "cell_type": "code",
   "execution_count": null,
   "metadata": {
    "colab": {
     "base_uri": "https://localhost:8080/"
    },
    "executionInfo": {
     "elapsed": 588,
     "status": "ok",
     "timestamp": 1638642032410,
     "user": {
      "displayName": "Md. Rahat Kader Khan",
      "photoUrl": "https://lh3.googleusercontent.com/a-/AOh14GjKasmEeiHxmsYxEjXwXkIHhNzdd2jMO7RTU9XA=s64",
      "userId": "00805180295176030880"
     },
     "user_tz": -360
    },
    "id": "gu0d6xIXmU_6",
    "outputId": "0601eb6a-7837-47e5-dec1-3180134399ca"
   },
   "outputs": [
    {
     "name": "stdout",
     "output_type": "stream",
     "text": [
      "/content/drive/MyDrive/Thesis/Faceforensics_2/manipulated_sequences/Face2Face/raw/images\n"
     ]
    }
   ],
   "source": [
    "%cd /content/drive/MyDrive/Thesis/Faceforensics_2/manipulated_sequences/Face2Face/raw/images"
   ]
  },
  {
   "cell_type": "code",
   "execution_count": null,
   "metadata": {
    "id": "hRXz6hUUmU5D"
   },
   "outputs": [],
   "source": [
    "src_dir = \"/content/drive/MyDrive/Thesis/FaceForensics/manipulated_sequences/Face2Face/c23/videos\"\n",
    "count = 100\n",
    "countFrame =100\n",
    "\n",
    "for dirname, _, filenames in os.walk(src_dir):\n",
    "  for idx,filename in enumerate(sorted(filenames)):\n",
    "\n",
    "    name, file_extension =os.path.splitext(os.path.basename(filename))\n",
    "\n",
    "    #making directory for each video\n",
    "    try:\n",
    "      if not os.path.exists(name):\n",
    "        os.makedirs(name)\n",
    "    except OSError:\n",
    "      print ('Error: Creating directory of data')\n",
    "\n",
    "    currentframe = 1\n",
    "    cam = cv2.VideoCapture(os.path.join(dirname, filename))\n",
    "    for i in range(countFrame):\n",
    "      ret,frame = cam.read()\n",
    "      imageName = \"/content/drive/MyDrive/Thesis/Faceforensics_2/manipulated_sequences/Face2Face/raw/images\"+'/'+name+'/'+str(currentframe) + '.png'\n",
    "      if ret:\n",
    "        cv2.imwrite(imageName, frame)\n",
    "        currentframe+=1\n",
    "\n",
    "    cam.release()\n",
    "    if idx>count:\n",
    "      break"
   ]
  },
  {
   "cell_type": "code",
   "execution_count": null,
   "metadata": {
    "id": "1BiBdQ57mUzq"
   },
   "outputs": [],
   "source": []
  },
  {
   "cell_type": "markdown",
   "metadata": {
    "id": "4q_o93sqmDeB"
   },
   "source": [
    "# **FaceSwap**"
   ]
  },
  {
   "cell_type": "code",
   "execution_count": null,
   "metadata": {
    "colab": {
     "base_uri": "https://localhost:8080/"
    },
    "executionInfo": {
     "elapsed": 395,
     "status": "ok",
     "timestamp": 1638643191397,
     "user": {
      "displayName": "Md. Rahat Kader Khan",
      "photoUrl": "https://lh3.googleusercontent.com/a-/AOh14GjKasmEeiHxmsYxEjXwXkIHhNzdd2jMO7RTU9XA=s64",
      "userId": "00805180295176030880"
     },
     "user_tz": -360
    },
    "id": "w2ipPIwlPoCz",
    "outputId": "98a998b2-4b0c-4e37-b2e2-4a39df6eff1c"
   },
   "outputs": [
    {
     "name": "stdout",
     "output_type": "stream",
     "text": [
      "/content/drive/My Drive/Thesis/Faceforensics_2/manipulated_sequences/Face2Face/raw/images\n"
     ]
    }
   ],
   "source": [
    "!pwd"
   ]
  },
  {
   "cell_type": "code",
   "execution_count": null,
   "metadata": {
    "colab": {
     "base_uri": "https://localhost:8080/"
    },
    "executionInfo": {
     "elapsed": 371,
     "status": "ok",
     "timestamp": 1638643204501,
     "user": {
      "displayName": "Md. Rahat Kader Khan",
      "photoUrl": "https://lh3.googleusercontent.com/a-/AOh14GjKasmEeiHxmsYxEjXwXkIHhNzdd2jMO7RTU9XA=s64",
      "userId": "00805180295176030880"
     },
     "user_tz": -360
    },
    "id": "TzSwS-XKmVx7",
    "outputId": "7c43cb74-a03b-4b16-9cef-d4400efb36da"
   },
   "outputs": [
    {
     "name": "stdout",
     "output_type": "stream",
     "text": [
      "/content/drive/MyDrive/Thesis/Faceforensics_2/manipulated_sequences/FaceSwap/raw/images\n"
     ]
    }
   ],
   "source": [
    "%cd /content/drive/MyDrive/Thesis/Faceforensics_2/manipulated_sequences/FaceSwap/raw/images"
   ]
  },
  {
   "cell_type": "code",
   "execution_count": null,
   "metadata": {
    "id": "jqDwLx_4mVti"
   },
   "outputs": [],
   "source": [
    "src_dir = \"/content/drive/MyDrive/Thesis/FaceForensics/manipulated_sequences/FaceSwap/c23/videos\"\n",
    "count = 100\n",
    "countFrame =100\n",
    "\n",
    "for dirname, _, filenames in os.walk(src_dir):\n",
    "  for idx,filename in enumerate(sorted(filenames)):\n",
    "\n",
    "    name, file_extension =os.path.splitext(os.path.basename(filename))\n",
    "\n",
    "    #making directory for each video\n",
    "    try:\n",
    "      if not os.path.exists(name):\n",
    "        os.makedirs(name)\n",
    "    except OSError:\n",
    "      print ('Error: Creating directory of data')\n",
    "\n",
    "    currentframe = 1\n",
    "    cam = cv2.VideoCapture(os.path.join(dirname, filename))\n",
    "    for i in range(countFrame):\n",
    "      ret,frame = cam.read()\n",
    "      imageName = \"/content/drive/MyDrive/Thesis/Faceforensics_2/manipulated_sequences/FaceSwap/raw/images\"+'/'+name+'/'+str(currentframe) + '.png'\n",
    "      if ret:\n",
    "        cv2.imwrite(imageName, frame)\n",
    "        currentframe+=1\n",
    "\n",
    "    cam.release()\n",
    "    if idx>count:\n",
    "      break"
   ]
  }
 ],
 "metadata": {
  "accelerator": "GPU",
  "colab": {
   "authorship_tag": "ABX9TyNkqSznO70m8oUNECggMFTc",
   "collapsed_sections": [],
   "mount_file_id": "1RYg9YKYXYbgHa5i7hfWyC8GMXYoKvO7V",
   "name": "VideoToImage.ipynb",
   "provenance": []
  },
  "kernelspec": {
   "display_name": "Python 3 (ipykernel)",
   "language": "python",
   "name": "python3"
  },
  "language_info": {
   "codemirror_mode": {
    "name": "ipython",
    "version": 3
   },
   "file_extension": ".py",
   "mimetype": "text/x-python",
   "name": "python",
   "nbconvert_exporter": "python",
   "pygments_lexer": "ipython3",
   "version": "3.9.7"
  }
 },
 "nbformat": 4,
 "nbformat_minor": 1
}
