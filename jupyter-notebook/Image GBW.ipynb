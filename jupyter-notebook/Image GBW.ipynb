{
 "cells": [
  {
   "cell_type": "code",
   "execution_count": 39,
   "id": "43032ccf",
   "metadata": {},
   "outputs": [],
   "source": [
    "\n",
    "\n",
    "\n",
    "import cv2\n",
    "import numpy as np\n",
    "\n",
    "img = cv2.imread('D:\\\\Py files\\\\Abeller\\\\original_p.png')\n",
    "# Convert BGR to HSV\n",
    "hsv = cv2.cvtColor(img, cv2.COLOR_BGR2HSV)\n",
    "# define range of gray color in HSV\n",
    "lower_gray = np.array([0,0,0])\n",
    "upper_gray = np.array([255,10,255])\n",
    "# Threshold the HSV image to get only gray colors\n",
    "mask = cv2.inRange(hsv, lower_gray, upper_gray)\n",
    "# Bitwise-AND mask and original image\n",
    "res = cv2.bitwise_and(img,img, mask= mask)\n",
    "cv2.imwrite(\"output.png\",res)\n",
    "cv2.imshow('YO',res)"
   ]
  },
  {
   "cell_type": "code",
   "execution_count": null,
   "id": "389e27a1",
   "metadata": {},
   "outputs": [],
   "source": []
  }
 ],
 "metadata": {
  "kernelspec": {
   "display_name": "Python 3 (ipykernel)",
   "language": "python",
   "name": "python3"
  },
  "language_info": {
   "codemirror_mode": {
    "name": "ipython",
    "version": 3
   },
   "file_extension": ".py",
   "mimetype": "text/x-python",
   "name": "python",
   "nbconvert_exporter": "python",
   "pygments_lexer": "ipython3",
   "version": "3.9.1"
  }
 },
 "nbformat": 4,
 "nbformat_minor": 5
}
