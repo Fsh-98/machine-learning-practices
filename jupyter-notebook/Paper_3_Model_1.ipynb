{
 "cells": [
  {
   "cell_type": "code",
   "execution_count": 1,
   "metadata": {
    "executionInfo": {
     "elapsed": 3629,
     "status": "ok",
     "timestamp": 1639235984933,
     "user": {
      "displayName": "Md. Rahat Kader Khan",
      "photoUrl": "https://lh3.googleusercontent.com/a-/AOh14GjKasmEeiHxmsYxEjXwXkIHhNzdd2jMO7RTU9XA=s64",
      "userId": "00805180295176030880"
     },
     "user_tz": -360
    },
    "id": "oiSXaVSG7xwc"
   },
   "outputs": [],
   "source": [
    "import keras\n",
    "import tensorflow as tf\n",
    "from keras import layers,Model\n",
    "from keras import models\n",
    "from keras.preprocessing.image import ImageDataGenerator\n",
    "from keras.layers import Dropout,InputLayer,Flatten,Dense,BatchNormalization,MaxPooling2D,Conv2D,Input,Concatenate,LeakyReLU\n",
    "from keras import optimizers\n",
    "from keras.callbacks import ModelCheckpoint\n",
    "from tensorflow.keras.utils import to_categorical,normalize\n",
    "from keras.applications.xception import Xception,preprocess_input\n",
    "from keras.callbacks import EarlyStopping\n",
    "from keras.callbacks import ModelCheckpoint,TensorBoard\n",
    "import numpy as np\n",
    "import joblib\n",
    "import matplotlib.pyplot as plt\n",
    "import os\n",
    "import cv2\n",
    "from tqdm import tqdm_notebook as tqdm\n",
    "import warnings\n",
    "import keras.backend as K\n",
    "import random\n",
    "warnings.filterwarnings('ignore')"
   ]
  },
  {
   "cell_type": "code",
   "execution_count": 2,
   "metadata": {
    "colab": {
     "base_uri": "https://localhost:8080/"
    },
    "executionInfo": {
     "elapsed": 15794,
     "status": "ok",
     "timestamp": 1639236004395,
     "user": {
      "displayName": "Md. Rahat Kader Khan",
      "photoUrl": "https://lh3.googleusercontent.com/a-/AOh14GjKasmEeiHxmsYxEjXwXkIHhNzdd2jMO7RTU9XA=s64",
      "userId": "00805180295176030880"
     },
     "user_tz": -360
    },
    "id": "H_kMjFuvE_ob",
    "outputId": "8dc3ff5e-350e-4b22-ce5d-e53c46439687"
   },
   "outputs": [
    {
     "name": "stdout",
     "output_type": "stream",
     "text": [
      "Mounted at /content/drive\n"
     ]
    }
   ],
   "source": [
    "from google.colab import drive\n",
    "drive.mount('/content/drive')"
   ]
  },
  {
   "cell_type": "code",
   "execution_count": 3,
   "metadata": {
    "executionInfo": {
     "elapsed": 23081,
     "status": "ok",
     "timestamp": 1639236037066,
     "user": {
      "displayName": "Md. Rahat Kader Khan",
      "photoUrl": "https://lh3.googleusercontent.com/a-/AOh14GjKasmEeiHxmsYxEjXwXkIHhNzdd2jMO7RTU9XA=s64",
      "userId": "00805180295176030880"
     },
     "user_tz": -360
    },
    "id": "bcM0vkFT7xwx"
   },
   "outputs": [],
   "source": [
    "#Loading already preprocessed files.\n",
    "x_test=joblib.load('/content/drive/MyDrive/T2/x_test.pkl')\n",
    "x_train=joblib.load('/content/drive/MyDrive/T2/x_train.pkl')\n",
    "y_test=joblib.load('/content/drive/MyDrive/T2/y_test.pkl')\n",
    "y_train=joblib.load('/content/drive/MyDrive/T2/y_train.pkl')\n",
    "y_cv=joblib.load('/content/drive/MyDrive/T2/y_cv.pkl')\n",
    "x_cv=joblib.load('/content/drive/MyDrive/T2/x_cv.pkl')"
   ]
  },
  {
   "cell_type": "code",
   "execution_count": 4,
   "metadata": {
    "colab": {
     "base_uri": "https://localhost:8080/"
    },
    "executionInfo": {
     "elapsed": 354,
     "status": "ok",
     "timestamp": 1639236042241,
     "user": {
      "displayName": "Md. Rahat Kader Khan",
      "photoUrl": "https://lh3.googleusercontent.com/a-/AOh14GjKasmEeiHxmsYxEjXwXkIHhNzdd2jMO7RTU9XA=s64",
      "userId": "00805180295176030880"
     },
     "user_tz": -360
    },
    "id": "kq6FL94QQBy7",
    "outputId": "286922c9-1b84-4abe-ceeb-9eb848df5cfa"
   },
   "outputs": [
    {
     "name": "stdout",
     "output_type": "stream",
     "text": [
      "Shape of Train data (1140, 299, 299, 3)\n",
      "Shape of Cv data (150, 299, 299, 3)\n",
      "Shape of Test data (360, 299, 299, 3)\n"
     ]
    }
   ],
   "source": [
    "print(\"Shape of Train data {}\".format(x_train.shape))\n",
    "print(\"Shape of Cv data {}\".format(x_cv.shape))\n",
    "print(\"Shape of Test data {}\".format(x_test.shape))"
   ]
  },
  {
   "cell_type": "code",
   "execution_count": 5,
   "metadata": {
    "executionInfo": {
     "elapsed": 345,
     "status": "ok",
     "timestamp": 1639236044560,
     "user": {
      "displayName": "Md. Rahat Kader Khan",
      "photoUrl": "https://lh3.googleusercontent.com/a-/AOh14GjKasmEeiHxmsYxEjXwXkIHhNzdd2jMO7RTU9XA=s64",
      "userId": "00805180295176030880"
     },
     "user_tz": -360
    },
    "id": "NPihxJqn7xxB"
   },
   "outputs": [],
   "source": [
    "Y_train=to_categorical(y_train)\n",
    "Y_test = to_categorical(y_test)\n",
    "Y_cv = to_categorical(y_cv)"
   ]
  },
  {
   "cell_type": "markdown",
   "metadata": {
    "id": "2UQwQbcjaYbs"
   },
   "source": [
    "### Xception Network"
   ]
  },
  {
   "cell_type": "code",
   "execution_count": 6,
   "metadata": {
    "colab": {
     "base_uri": "https://localhost:8080/"
    },
    "executionInfo": {
     "elapsed": 274647,
     "status": "ok",
     "timestamp": 1639236326094,
     "user": {
      "displayName": "Md. Rahat Kader Khan",
      "photoUrl": "https://lh3.googleusercontent.com/a-/AOh14GjKasmEeiHxmsYxEjXwXkIHhNzdd2jMO7RTU9XA=s64",
      "userId": "00805180295176030880"
     },
     "user_tz": -360
    },
    "id": "gx9nl52tU9Lq",
    "outputId": "8fa70a94-4b7c-43b9-cc2c-e14ab1ce0246"
   },
   "outputs": [
    {
     "name": "stdout",
     "output_type": "stream",
     "text": [
      "Downloading data from https://storage.googleapis.com/tensorflow/keras-applications/xception/xception_weights_tf_dim_ordering_tf_kernels_notop.h5\n",
      "83689472/83683744 [==============================] - 1s 0us/step\n",
      "83697664/83683744 [==============================] - 1s 0us/step\n",
      "Epoch 1/3\n",
      "36/36 [==============================] - 101s 2s/step - loss: 0.1493 - accuracy: 0.9421\n",
      "Epoch 2/3\n",
      "36/36 [==============================] - 81s 2s/step - loss: 0.0079 - accuracy: 0.9974\n",
      "Epoch 3/3\n",
      "36/36 [==============================] - 80s 2s/step - loss: 0.0278 - accuracy: 0.9912\n"
     ]
    }
   ],
   "source": [
    "#Greedy Layer-Wise Pretraining Learned from : https://machinelearningmastery.com/greedy-layer-wise-pretraining-tutorial/\n",
    "# 1. Pre-training the network with train data on initilizing the \"imagenet\" weights with \"include_top=False\"\n",
    "# 2. After training 3 epochs remove the top most layer\n",
    "# 3. Now add similar top layer and again train and validate\n",
    "\n",
    "\n",
    "Xception_initial=Xception(include_top=False,\n",
    "                 weights='imagenet',\n",
    "                 input_shape=(299,299,3),pooling ='avg',\n",
    "                 )\n",
    "#print(Xception_pre_trained.summary())\n",
    "\n",
    "for layer in Xception_initial.layers:\n",
    "    layer.trainable = True\n",
    "\n",
    "x = Xception_initial.output\n",
    "predicted = Dense(2,activation ='softmax')(x)\n",
    "model_pretrain = Model(inputs = Xception_initial.input, outputs = predicted)\n",
    "model_pretrain.compile(loss=keras.losses.categorical_crossentropy,\n",
    "          optimizer=tf.keras.optimizers.Adam(lr = 0.0002),\n",
    "          metrics=['accuracy'])\n",
    "pretraining_Xception =model_pretrain.fit(x_train, Y_train,\n",
    "                                              verbose=1,\n",
    "                                              batch_size=32,  \n",
    "                                              epochs=3)"
   ]
  },
  {
   "cell_type": "code",
   "execution_count": 7,
   "metadata": {
    "colab": {
     "base_uri": "https://localhost:8080/"
    },
    "executionInfo": {
     "elapsed": 363,
     "status": "ok",
     "timestamp": 1639236344458,
     "user": {
      "displayName": "Md. Rahat Kader Khan",
      "photoUrl": "https://lh3.googleusercontent.com/a-/AOh14GjKasmEeiHxmsYxEjXwXkIHhNzdd2jMO7RTU9XA=s64",
      "userId": "00805180295176030880"
     },
     "user_tz": -360
    },
    "id": "nvKBZfYYHo4x",
    "outputId": "0b0bc706-d882-43eb-a35f-3144a4d07dfa"
   },
   "outputs": [
    {
     "data": {
      "text/plain": [
       "<keras.layers.core.dense.Dense at 0x7fead9516490>"
      ]
     },
     "execution_count": 7,
     "metadata": {},
     "output_type": "execute_result"
    }
   ],
   "source": [
    "model_pretrain.layers.pop() # Removing topmost layer"
   ]
  },
  {
   "cell_type": "code",
   "execution_count": 8,
   "metadata": {
    "colab": {
     "base_uri": "https://localhost:8080/"
    },
    "executionInfo": {
     "elapsed": 375,
     "status": "ok",
     "timestamp": 1639236561260,
     "user": {
      "displayName": "Md. Rahat Kader Khan",
      "photoUrl": "https://lh3.googleusercontent.com/a-/AOh14GjKasmEeiHxmsYxEjXwXkIHhNzdd2jMO7RTU9XA=s64",
      "userId": "00805180295176030880"
     },
     "user_tz": -360
    },
    "id": "FS3WnSZE_59K",
    "outputId": "933e2d4b-3144-4044-a993-15c0a50b9e09"
   },
   "outputs": [
    {
     "name": "stdout",
     "output_type": "stream",
     "text": [
      "/content/drive/MyDrive/T2\n"
     ]
    }
   ],
   "source": [
    "%cd /content/drive/MyDrive/T2"
   ]
  },
  {
   "cell_type": "code",
   "execution_count": 9,
   "metadata": {
    "executionInfo": {
     "elapsed": 3,
     "status": "ok",
     "timestamp": 1639236564458,
     "user": {
      "displayName": "Md. Rahat Kader Khan",
      "photoUrl": "https://lh3.googleusercontent.com/a-/AOh14GjKasmEeiHxmsYxEjXwXkIHhNzdd2jMO7RTU9XA=s64",
      "userId": "00805180295176030880"
     },
     "user_tz": -360
    },
    "id": "zBNHKxeBFOKO"
   },
   "outputs": [],
   "source": [
    "tensorboard=TensorBoard(log_dir='./logs', histogram_freq=3)"
   ]
  },
  {
   "cell_type": "code",
   "execution_count": 10,
   "metadata": {
    "colab": {
     "base_uri": "https://localhost:8080/"
    },
    "executionInfo": {
     "elapsed": 386911,
     "status": "ok",
     "timestamp": 1639236958553,
     "user": {
      "displayName": "Md. Rahat Kader Khan",
      "photoUrl": "https://lh3.googleusercontent.com/a-/AOh14GjKasmEeiHxmsYxEjXwXkIHhNzdd2jMO7RTU9XA=s64",
      "userId": "00805180295176030880"
     },
     "user_tz": -360
    },
    "id": "hetOO8b1htr1",
    "outputId": "def767c0-3f38-4810-a922-6b7c3065a786",
    "scrolled": false
   },
   "outputs": [
    {
     "name": "stdout",
     "output_type": "stream",
     "text": [
      "Epoch 1/15\n",
      "72/72 [==============================] - 36s 432ms/step - loss: 0.6515 - accuracy: 0.5184 - val_loss: 0.6774 - val_accuracy: 0.6400\n",
      "Epoch 2/15\n",
      "72/72 [==============================] - 22s 303ms/step - loss: 0.6381 - accuracy: 0.9649 - val_loss: 0.6771 - val_accuracy: 0.6067\n",
      "Epoch 3/15\n",
      "72/72 [==============================] - 22s 303ms/step - loss: 0.6251 - accuracy: 0.9737 - val_loss: 0.6770 - val_accuracy: 0.5800\n",
      "Epoch 4/15\n",
      "72/72 [==============================] - 27s 374ms/step - loss: 0.6125 - accuracy: 0.9807 - val_loss: 0.6767 - val_accuracy: 0.5600\n",
      "Epoch 5/15\n",
      "72/72 [==============================] - 22s 305ms/step - loss: 0.6002 - accuracy: 0.9833 - val_loss: 0.6768 - val_accuracy: 0.5467\n",
      "Epoch 6/15\n",
      "72/72 [==============================] - 22s 304ms/step - loss: 0.5882 - accuracy: 0.9842 - val_loss: 0.6769 - val_accuracy: 0.5467\n",
      "Epoch 7/15\n",
      "72/72 [==============================] - 27s 371ms/step - loss: 0.5765 - accuracy: 0.9851 - val_loss: 0.6772 - val_accuracy: 0.5333\n",
      "Epoch 8/15\n",
      "72/72 [==============================] - 22s 305ms/step - loss: 0.5652 - accuracy: 0.9877 - val_loss: 0.6775 - val_accuracy: 0.5400\n",
      "Epoch 9/15\n",
      "72/72 [==============================] - 22s 303ms/step - loss: 0.5541 - accuracy: 0.9886 - val_loss: 0.6779 - val_accuracy: 0.5400\n",
      "Epoch 10/15\n",
      "72/72 [==============================] - 27s 374ms/step - loss: 0.5433 - accuracy: 0.9886 - val_loss: 0.6782 - val_accuracy: 0.5400\n",
      "Epoch 11/15\n",
      "72/72 [==============================] - 22s 303ms/step - loss: 0.5327 - accuracy: 0.9886 - val_loss: 0.6789 - val_accuracy: 0.5400\n",
      "Epoch 12/15\n",
      "72/72 [==============================] - 22s 304ms/step - loss: 0.5224 - accuracy: 0.9886 - val_loss: 0.6795 - val_accuracy: 0.5400\n",
      "Epoch 13/15\n",
      "72/72 [==============================] - 27s 372ms/step - loss: 0.5123 - accuracy: 0.9886 - val_loss: 0.6800 - val_accuracy: 0.5333\n",
      "Epoch 14/15\n",
      "72/72 [==============================] - 22s 304ms/step - loss: 0.5024 - accuracy: 0.9895 - val_loss: 0.6810 - val_accuracy: 0.5333\n",
      "Epoch 15/15\n",
      "72/72 [==============================] - 22s 302ms/step - loss: 0.4928 - accuracy: 0.9904 - val_loss: 0.6818 - val_accuracy: 0.5333\n"
     ]
    }
   ],
   "source": [
    "for layer in model_pretrain.layers:\n",
    "    layer.trainable = False\n",
    "x = model_pretrain.output\n",
    "#x= Dense(64,activation ='relu')(x)\n",
    "#x = Dropout(0.2)(x)\n",
    "#x= Dense(64,activation ='relu')(x)\n",
    "#x = Dropout(0.2)(x)\n",
    "#x= BatchNormalization()(x) \n",
    "predicted = Dense(2,activation ='softmax')(x)\n",
    "model_finetune1 = Model(inputs = model_pretrain.input, outputs = predicted)\n",
    "model_finetune1.compile(loss=keras.losses.categorical_crossentropy,\n",
    "          optimizer=tf.keras.optimizers.Adam(lr = 0.0002),\n",
    "          metrics=['accuracy'])\n",
    "\n",
    "finetuning1_XceptionNet=model_finetune1.fit(x_train, Y_train,verbose=1,batch_size=16,\n",
    "                     epochs=15,validation_data=(x_cv, Y_cv)\n",
    "                      ,callbacks=[tensorboard]\n",
    "                     )"
   ]
  },
  {
   "cell_type": "code",
   "execution_count": 11,
   "metadata": {
    "executionInfo": {
     "elapsed": 1138,
     "status": "ok",
     "timestamp": 1639236982122,
     "user": {
      "displayName": "Md. Rahat Kader Khan",
      "photoUrl": "https://lh3.googleusercontent.com/a-/AOh14GjKasmEeiHxmsYxEjXwXkIHhNzdd2jMO7RTU9XA=s64",
      "userId": "00805180295176030880"
     },
     "user_tz": -360
    },
    "id": "bPD_jsYLZJOV"
   },
   "outputs": [],
   "source": [
    "model_finetune1.save(\"model_finetuned_xception.hdf5\")"
   ]
  },
  {
   "cell_type": "code",
   "execution_count": 12,
   "metadata": {
    "colab": {
     "base_uri": "https://localhost:8080/"
    },
    "executionInfo": {
     "elapsed": 21357,
     "status": "ok",
     "timestamp": 1639237005832,
     "user": {
      "displayName": "Md. Rahat Kader Khan",
      "photoUrl": "https://lh3.googleusercontent.com/a-/AOh14GjKasmEeiHxmsYxEjXwXkIHhNzdd2jMO7RTU9XA=s64",
      "userId": "00805180295176030880"
     },
     "user_tz": -360
    },
    "id": "XB6aqzeTYN1R",
    "outputId": "057d8ed9-73a9-44f5-e58f-64c20f38e17d"
   },
   "outputs": [
    {
     "name": "stdout",
     "output_type": "stream",
     "text": [
      "36/36 [==============================] - 18s 506ms/step - loss: 0.4879 - accuracy: 0.9904\n"
     ]
    },
    {
     "data": {
      "text/plain": [
       "[0.4879346489906311, 0.9903509020805359]"
      ]
     },
     "execution_count": 12,
     "metadata": {},
     "output_type": "execute_result"
    }
   ],
   "source": [
    "model_finetune1.evaluate(x_train,Y_train)"
   ]
  },
  {
   "cell_type": "code",
   "execution_count": 13,
   "metadata": {
    "colab": {
     "base_uri": "https://localhost:8080/"
    },
    "executionInfo": {
     "elapsed": 4449,
     "status": "ok",
     "timestamp": 1639237049345,
     "user": {
      "displayName": "Md. Rahat Kader Khan",
      "photoUrl": "https://lh3.googleusercontent.com/a-/AOh14GjKasmEeiHxmsYxEjXwXkIHhNzdd2jMO7RTU9XA=s64",
      "userId": "00805180295176030880"
     },
     "user_tz": -360
    },
    "id": "RVdidIZrZiTY",
    "outputId": "48831495-2364-484d-a2f8-36e74d8b1bb7"
   },
   "outputs": [
    {
     "name": "stdout",
     "output_type": "stream",
     "text": [
      "5/5 [==============================] - 4s 822ms/step - loss: 0.6818 - accuracy: 0.5333\n"
     ]
    },
    {
     "data": {
      "text/plain": [
       "[0.6818447113037109, 0.5333333611488342]"
      ]
     },
     "execution_count": 13,
     "metadata": {},
     "output_type": "execute_result"
    }
   ],
   "source": [
    "model_finetune1.evaluate(x_cv,Y_cv)"
   ]
  },
  {
   "cell_type": "code",
   "execution_count": 14,
   "metadata": {
    "colab": {
     "base_uri": "https://localhost:8080/"
    },
    "executionInfo": {
     "elapsed": 10908,
     "status": "ok",
     "timestamp": 1639237069464,
     "user": {
      "displayName": "Md. Rahat Kader Khan",
      "photoUrl": "https://lh3.googleusercontent.com/a-/AOh14GjKasmEeiHxmsYxEjXwXkIHhNzdd2jMO7RTU9XA=s64",
      "userId": "00805180295176030880"
     },
     "user_tz": -360
    },
    "id": "blWq2HlsWcd5",
    "outputId": "5ed90e32-fff3-4dfe-9c48-a546d6b25b27"
   },
   "outputs": [
    {
     "name": "stdout",
     "output_type": "stream",
     "text": [
      "12/12 [==============================] - 6s 529ms/step - loss: 0.6394 - accuracy: 0.6806\n"
     ]
    },
    {
     "data": {
      "text/plain": [
       "[0.6393774151802063, 0.6805555820465088]"
      ]
     },
     "execution_count": 14,
     "metadata": {},
     "output_type": "execute_result"
    }
   ],
   "source": [
    "#Unseen data\n",
    "model_finetune1.evaluate(x_test,Y_test)"
   ]
  }
 ],
 "metadata": {
  "accelerator": "GPU",
  "colab": {
   "collapsed_sections": [],
   "machine_shape": "hm",
   "name": "Paper_3_Model_1.ipynb",
   "provenance": [
    {
     "file_id": "https://github.com/pothabattulasantosh/Detection-of-face-Manipulated-videos/blob/master/modeling.ipynb",
     "timestamp": 1639235346009
    }
   ]
  },
  "kernelspec": {
   "display_name": "Python 3",
   "language": "python",
   "name": "python3"
  },
  "language_info": {
   "codemirror_mode": {
    "name": "ipython",
    "version": 3
   },
   "file_extension": ".py",
   "mimetype": "text/x-python",
   "name": "python",
   "nbconvert_exporter": "python",
   "pygments_lexer": "ipython3",
   "version": "3.7.3"
  }
 },
 "nbformat": 4,
 "nbformat_minor": 0
}
